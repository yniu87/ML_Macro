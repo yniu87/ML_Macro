{
 "cells": [
  {
   "cell_type": "markdown",
   "metadata": {},
   "source": [
    "We solve the Neoclassical Growth Model\n",
    "\\begin{align}\n",
    "  \\rho V(k) &= \\max_{c} u(c) +  V'(k)(F(k)-\\delta k - c) \\\\\n",
    "  &u(c) = \\frac{c^{1-\\sigma}}{1-\\sigma},~~~~ F(k)=k^\\alpha\n",
    "\\end{align}"
   ]
  },
  {
   "cell_type": "code",
   "execution_count": 1,
   "metadata": {},
   "outputs": [
    {
     "name": "stderr",
     "output_type": "stream",
     "text": [
      "/anaconda3/lib/python3.6/site-packages/h5py/__init__.py:36: FutureWarning: Conversion of the second argument of issubdtype from `float` to `np.floating` is deprecated. In future, it will be treated as `np.float64 == np.dtype(float).type`.\n",
      "  from ._conv import register_converters as _register_converters\n"
     ]
    }
   ],
   "source": [
    "import numpy as np\n",
    "\n",
    "import matplotlib.pyplot as plt\n",
    "\n",
    "import tensorflow as tf\n",
    "from tensorflow import keras\n",
    "from tensorflow.keras import layers"
   ]
  },
  {
   "cell_type": "code",
   "execution_count": 2,
   "metadata": {},
   "outputs": [],
   "source": [
    "sigma = 2 # 1 changes to log utility\n",
    "alpha = 0.3\n",
    "delta = 0.05\n",
    "rho = 0.05"
   ]
  },
  {
   "cell_type": "code",
   "execution_count": 3,
   "metadata": {},
   "outputs": [],
   "source": [
    "kss = (alpha/(rho+delta))**(1/(1-alpha))\n",
    "kmin = 0.001*kss\n",
    "kmax = 2*kss\n",
    "\n",
    "# kmin = 0\n",
    "# kmax = 1"
   ]
  },
  {
   "cell_type": "code",
   "execution_count": 4,
   "metadata": {},
   "outputs": [
    {
     "data": {
      "text/plain": [
       "9.607973313346182"
      ]
     },
     "execution_count": 4,
     "metadata": {},
     "output_type": "execute_result"
    }
   ],
   "source": [
    "kmax"
   ]
  },
  {
   "cell_type": "code",
   "execution_count": 5,
   "metadata": {},
   "outputs": [
    {
     "data": {
      "text/plain": [
       "array([[4.34496008],\n",
       "       [8.55459916],\n",
       "       [4.40360863],\n",
       "       ...,\n",
       "       [7.05404361],\n",
       "       [4.80661246],\n",
       "       [7.94319697]])"
      ]
     },
     "execution_count": 5,
     "metadata": {},
     "output_type": "execute_result"
    }
   ],
   "source": [
    "train_num = 10000\n",
    "x_train = np.random.uniform(kmin,kmax,(train_num,1))\n",
    "# train = np.linspace(kmin, kmax, num=train_num)\n",
    "x_train"
   ]
  },
  {
   "cell_type": "code",
   "execution_count": 6,
   "metadata": {},
   "outputs": [],
   "source": [
    "def build_model():\n",
    "  model = keras.Sequential([\n",
    "    layers.Dense(64, activation='tanh', input_shape=[1]), #use_bias=True\n",
    "    layers.Dense(64, activation='tanh'), #use_bias=False     \n",
    "    layers.Dense(64, activation='tanh'), #use_bias=False\n",
    "#     layers.Dense(16, activation='relu'), #use_bias=False     \n",
    "#     layers.Dense(8, activation='relu'), #use_bias=False \n",
    "#     layers.Dense(4, activation='relu'), #use_bias=False \n",
    "#     layers.Dense(2, activation='relu'), #use_bias=False   \n",
    "    layers.Dense(1) #,kernel_constraint=keras.constraints.NonNeg()\n",
    "  ])\n",
    "\n",
    "  optimizer = keras.optimizers.Adam(lr=0.001, beta_1=0.9, beta_2=0.999, epsilon=None, decay=0.0, amsgrad=False)\n",
    "#   optimizer = tf.keras.optimizers.RMSprop(0.001)\n",
    "\n",
    "  model.compile(loss='mse',\n",
    "                optimizer=optimizer,\n",
    "                )\n",
    "  return model"
   ]
  },
  {
   "cell_type": "code",
   "execution_count": 7,
   "metadata": {},
   "outputs": [],
   "source": [
    "model = build_model()"
   ]
  },
  {
   "cell_type": "code",
   "execution_count": 8,
   "metadata": {
    "scrolled": true
   },
   "outputs": [
    {
     "name": "stdout",
     "output_type": "stream",
     "text": [
      "Model: \"sequential\"\n",
      "_________________________________________________________________\n",
      "Layer (type)                 Output Shape              Param #   \n",
      "=================================================================\n",
      "dense (Dense)                (None, 64)                128       \n",
      "_________________________________________________________________\n",
      "dense_1 (Dense)              (None, 64)                4160      \n",
      "_________________________________________________________________\n",
      "dense_2 (Dense)              (None, 64)                4160      \n",
      "_________________________________________________________________\n",
      "dense_3 (Dense)              (None, 1)                 65        \n",
      "=================================================================\n",
      "Total params: 8,513\n",
      "Trainable params: 8,513\n",
      "Non-trainable params: 0\n",
      "_________________________________________________________________\n"
     ]
    }
   ],
   "source": [
    "model.summary()\n",
    "# model.get_weights() "
   ]
  },
  {
   "cell_type": "code",
   "execution_count": 9,
   "metadata": {},
   "outputs": [
    {
     "data": {
      "text/plain": [
       "<matplotlib.collections.PathCollection at 0xb2689a470>"
      ]
     },
     "execution_count": 9,
     "metadata": {},
     "output_type": "execute_result"
    },
    {
     "data": {
      "image/png": "[encoded data removed]",
      "text/plain": [
       "<Figure size 432x288 with 1 Axes>"
      ]
     },
     "metadata": {},
     "output_type": "display_data"
    }
   ],
   "source": [
    "y_train = - 11/81*(x_train-9)**2 - 13\n",
    "\n",
    "plt.scatter(x_train,y_train)"
   ]
  },
  {
   "cell_type": "code",
   "execution_count": 10,
   "metadata": {},
   "outputs": [
    {
     "name": "stdout",
     "output_type": "stream",
     "text": [
      "Train on 8000 samples, validate on 2000 samples\n",
      "Epoch 1/50\n",
      "8000/8000 [==============================] - 1s 74us/sample - loss: 33.9566 - val_loss: 11.2643\n",
      "Epoch 2/50\n",
      "8000/8000 [==============================] - 0s 49us/sample - loss: 11.0367 - val_loss: 10.8298\n",
      "Epoch 3/50\n",
      "8000/8000 [==============================] - 0s 49us/sample - loss: 10.8228 - val_loss: 10.7268\n",
      "Epoch 4/50\n",
      "8000/8000 [==============================] - 0s 47us/sample - loss: 10.5369 - val_loss: 9.5338\n",
      "Epoch 5/50\n",
      "8000/8000 [==============================] - 0s 47us/sample - loss: 6.1875 - val_loss: 3.4414\n",
      "Epoch 6/50\n",
      "8000/8000 [==============================] - 0s 47us/sample - loss: 2.5301 - val_loss: 1.6794\n",
      "Epoch 7/50\n",
      "8000/8000 [==============================] - 0s 47us/sample - loss: 1.1829 - val_loss: 0.8216\n",
      "Epoch 8/50\n",
      "8000/8000 [==============================] - 0s 47us/sample - loss: 0.4514 - val_loss: 0.2553\n",
      "Epoch 9/50\n",
      "8000/8000 [==============================] - 0s 48us/sample - loss: 0.1858 - val_loss: 0.1347\n",
      "Epoch 10/50\n",
      "8000/8000 [==============================] - 0s 47us/sample - loss: 0.0994 - val_loss: 0.0737\n",
      "Epoch 11/50\n",
      "8000/8000 [==============================] - 0s 48us/sample - loss: 0.0560 - val_loss: 0.0427\n",
      "Epoch 12/50\n",
      "8000/8000 [==============================] - 0s 48us/sample - loss: 0.0334 - val_loss: 0.0260\n",
      "Epoch 13/50\n",
      "8000/8000 [==============================] - 0s 47us/sample - loss: 0.0209 - val_loss: 0.0163\n",
      "Epoch 14/50\n",
      "8000/8000 [==============================] - 0s 47us/sample - loss: 0.0133 - val_loss: 0.0098\n",
      "Epoch 15/50\n",
      "8000/8000 [==============================] - 0s 46us/sample - loss: 0.0086 - val_loss: 0.0064\n",
      "Epoch 16/50\n",
      "8000/8000 [==============================] - 0s 48us/sample - loss: 0.0057 - val_loss: 0.0041\n",
      "Epoch 17/50\n",
      "8000/8000 [==============================] - 0s 55us/sample - loss: 0.0038 - val_loss: 0.0029\n",
      "Epoch 18/50\n",
      "8000/8000 [==============================] - 0s 49us/sample - loss: 0.0027 - val_loss: 0.0020\n",
      "Epoch 19/50\n",
      "8000/8000 [==============================] - 0s 48us/sample - loss: 0.0019 - val_loss: 0.0014\n",
      "Epoch 20/50\n",
      "8000/8000 [==============================] - 0s 48us/sample - loss: 0.0014 - val_loss: 9.4278e-04\n",
      "Epoch 21/50\n",
      "8000/8000 [==============================] - 0s 48us/sample - loss: 0.0010 - val_loss: 7.8480e-04\n",
      "Epoch 22/50\n",
      "8000/8000 [==============================] - 0s 47us/sample - loss: 7.8344e-04 - val_loss: 5.7405e-04\n",
      "Epoch 23/50\n",
      "8000/8000 [==============================] - 0s 48us/sample - loss: 6.2635e-04 - val_loss: 4.4862e-04\n",
      "Epoch 24/50\n",
      "8000/8000 [==============================] - 0s 49us/sample - loss: 5.2535e-04 - val_loss: 4.8858e-04\n",
      "Epoch 25/50\n",
      "8000/8000 [==============================] - 0s 48us/sample - loss: 4.4321e-04 - val_loss: 4.0649e-04\n",
      "Epoch 26/50\n",
      "8000/8000 [==============================] - 0s 48us/sample - loss: 4.2416e-04 - val_loss: 2.6885e-04\n",
      "Epoch 27/50\n",
      "8000/8000 [==============================] - 0s 48us/sample - loss: 4.5244e-04 - val_loss: 5.4661e-04\n",
      "Epoch 28/50\n",
      "8000/8000 [==============================] - 0s 48us/sample - loss: 3.6345e-04 - val_loss: 2.6073e-04\n",
      "Epoch 29/50\n",
      "8000/8000 [==============================] - 0s 47us/sample - loss: 3.2161e-04 - val_loss: 4.5408e-04\n",
      "Epoch 30/50\n",
      "8000/8000 [==============================] - 0s 48us/sample - loss: 3.5999e-04 - val_loss: 1.7057e-04\n",
      "Epoch 31/50\n",
      "8000/8000 [==============================] - 0s 47us/sample - loss: 3.0028e-04 - val_loss: 3.1928e-04\n",
      "Epoch 32/50\n",
      "8000/8000 [==============================] - 0s 48us/sample - loss: 4.1416e-04 - val_loss: 1.5924e-04\n",
      "Epoch 33/50\n",
      "8000/8000 [==============================] - 0s 48us/sample - loss: 2.3616e-04 - val_loss: 1.9933e-04\n",
      "Epoch 34/50\n",
      "8000/8000 [==============================] - 0s 48us/sample - loss: 4.6734e-04 - val_loss: 3.8757e-04\n",
      "Epoch 35/50\n",
      "8000/8000 [==============================] - 0s 48us/sample - loss: 3.4721e-04 - val_loss: 0.0041\n",
      "Epoch 36/50\n",
      "8000/8000 [==============================] - 0s 50us/sample - loss: 3.5339e-04 - val_loss: 8.3673e-04\n",
      "Epoch 37/50\n",
      "8000/8000 [==============================] - 1s 64us/sample - loss: 2.1618e-04 - val_loss: 1.3680e-04\n",
      "Epoch 38/50\n",
      "8000/8000 [==============================] - 1s 85us/sample - loss: 5.0757e-04 - val_loss: 1.4736e-04\n",
      "Epoch 39/50\n",
      "8000/8000 [==============================] - 0s 60us/sample - loss: 2.2709e-04 - val_loss: 2.3315e-04\n",
      "Epoch 40/50\n",
      "8000/8000 [==============================] - 0s 53us/sample - loss: 3.2994e-04 - val_loss: 2.1063e-04\n",
      "Epoch 41/50\n",
      "8000/8000 [==============================] - 0s 55us/sample - loss: 9.6637e-04 - val_loss: 1.1710e-04\n",
      "Epoch 42/50\n",
      "8000/8000 [==============================] - 1s 71us/sample - loss: 1.8715e-04 - val_loss: 2.2768e-04\n",
      "Epoch 43/50\n",
      "8000/8000 [==============================] - 0s 51us/sample - loss: 2.1138e-04 - val_loss: 1.5994e-04\n",
      "Epoch 44/50\n",
      "8000/8000 [==============================] - 0s 61us/sample - loss: 2.2823e-04 - val_loss: 1.0323e-04\n",
      "Epoch 45/50\n",
      "8000/8000 [==============================] - 0s 43us/sample - loss: 3.3836e-04 - val_loss: 4.4126e-04\n",
      "Epoch 46/50\n",
      "8000/8000 [==============================] - 0s 59us/sample - loss: 2.8003e-04 - val_loss: 1.4851e-04\n",
      "Epoch 47/50\n",
      "8000/8000 [==============================] - 1s 63us/sample - loss: 5.9676e-04 - val_loss: 0.0016\n",
      "Epoch 48/50\n",
      "8000/8000 [==============================] - 0s 50us/sample - loss: 2.3682e-04 - val_loss: 2.1872e-04\n",
      "Epoch 49/50\n",
      "8000/8000 [==============================] - 0s 62us/sample - loss: 2.6845e-04 - val_loss: 1.0793e-04\n",
      "Epoch 50/50\n",
      "8000/8000 [==============================] - 0s 56us/sample - loss: 5.0430e-04 - val_loss: 1.4877e-04\n"
     ]
    },
    {
     "data": {
      "text/plain": [
       "<tensorflow.python.keras.callbacks.History at 0xb268df080>"
      ]
     },
     "execution_count": 10,
     "metadata": {},
     "output_type": "execute_result"
    }
   ],
   "source": [
    "model.fit( x_train, y_train, epochs=50,validation_split = 0.2, verbose=1 ) # ,batch_size=5000"
   ]
  },
  {
   "cell_type": "code",
   "execution_count": 11,
   "metadata": {},
   "outputs": [
    {
     "name": "stdout",
     "output_type": "stream",
     "text": [
      "0.010117558294321686\n"
     ]
    },
    {
     "data": {
      "image/png": "[encoded data removed]",
      "text/plain": [
       "<Figure size 432x288 with 1 Axes>"
      ]
     },
     "metadata": {},
     "output_type": "display_data"
    }
   ],
   "source": [
    "x_test = np.linspace(kmin,kmax,num=1000)\n",
    "\n",
    "y_test = - 11/81*(x_test-9)**2 - 13\n",
    "\n",
    "error = y_test.reshape(1000,1) - model.predict([x_test])\n",
    "\n",
    "print(np.mean(abs(error)))\n",
    "\n",
    "plt.hist(error, bins=10) \n",
    "plt.show()"
   ]
  },
  {
   "cell_type": "code",
   "execution_count": 12,
   "metadata": {},
   "outputs": [
    {
     "data": {
      "text/plain": [
       "<matplotlib.collections.PathCollection at 0xb26fdc7f0>"
      ]
     },
     "execution_count": 12,
     "metadata": {},
     "output_type": "execute_result"
    },
    {
     "data": {
      "image/png": "[encoded data removed]",
      "text/plain": [
       "<Figure size 432x288 with 1 Axes>"
      ]
     },
     "metadata": {},
     "output_type": "display_data"
    }
   ],
   "source": [
    "plt.scatter(x_test,model.predict([x_test]))"
   ]
  },
  {
   "cell_type": "code",
   "execution_count": 13,
   "metadata": {},
   "outputs": [
    {
     "name": "stdout",
     "output_type": "stream",
     "text": [
      "[[1.25788355]\n",
      " [0.10300608]\n",
      " [1.24466133]\n",
      " ...\n",
      " [0.55640173]\n",
      " [1.14448023]\n",
      " [0.24768469]]\n"
     ]
    }
   ],
   "source": [
    "inputs = tf.constant(x_train)\n",
    "with tf.GradientTape() as t: #(persistent=True)\n",
    "    t.watch(inputs)\n",
    "    output = model(inputs)\n",
    "derivative = t.gradient(output, inputs).numpy()\n",
    "print(derivative)"
   ]
  },
  {
   "cell_type": "code",
   "execution_count": 14,
   "metadata": {},
   "outputs": [],
   "source": [
    "# np.ones(train_num).reshape(train_num,1).shape"
   ]
  },
  {
   "cell_type": "code",
   "execution_count": 15,
   "metadata": {},
   "outputs": [],
   "source": [
    "update = 1\n",
    "dt = 5*1e-2\n",
    "criteria = 1e-2\n",
    "converge_error = 10"
   ]
  },
  {
   "cell_type": "code",
   "execution_count": 16,
   "metadata": {},
   "outputs": [
    {
     "name": "stdout",
     "output_type": "stream",
     "text": [
      "2 [1.11809516] 0.2059371336043937\n",
      "3 [1.16268856] 0.20221425246095284\n",
      "4 [1.20487628] 0.19933587718377727\n",
      "5 [1.25887959] 0.19537784118484225\n",
      "6 [1.31173756] 0.19162063475637287\n",
      "7 [1.36857447] 0.18839787215831158\n",
      "8 [1.41464639] 0.1854183318072135\n",
      "9 [1.45889325] 0.18133907984750253\n",
      "10 [1.4784609] 0.17936085960999923\n",
      "11 [1.51412618] 0.1777334206079184\n",
      "12 [1.56046839] 0.1758748841129998\n",
      "13 [1.59016839] 0.17604531323231112\n",
      "14 [1.62864807] 0.173636424255321\n",
      "15 [1.68788862] 0.17195895795934762\n",
      "16 [1.74160644] 0.17021911472627957\n",
      "17 [1.78012896] 0.1683633602607113\n",
      "18 [1.79666386] 0.16769557123934314\n",
      "19 [1.83634121] 0.16550132163504505\n",
      "20 [1.88341266] 0.1640645832413816\n",
      "21 [2.01509113] 0.16328372493500715\n",
      "22 [2.07884197] 0.16243784185153934\n",
      "23 [2.1498734] 0.16332689386655969\n",
      "24 [2.23996722] 0.16156459187268846\n",
      "25 [2.339574] 0.15963937228391614\n",
      "26 [2.4458612] 0.1577433456672321\n",
      "27 [2.59962659] 0.15639343236342249\n",
      "28 [2.9524642] 0.15823233742843965\n",
      "29 [2.94066036] 0.15613688965181827\n",
      "30 [2.98897296] 0.15465492285210872\n",
      "31 [3.07312556] 0.15358463704707032\n",
      "32 [3.11541041] 0.15259136283885952\n",
      "33 [3.13527429] 0.15172807271048494\n",
      "34 [3.1483708] 0.1508701984113047\n",
      "35 [3.12350682] 0.14974838858176057\n",
      "36 [3.08832731] 0.14907109358560125\n",
      "37 [3.02536058] 0.14967603438923743\n",
      "38 [2.97539788] 0.14851786117182156\n",
      "39 [3.03203814] 0.1513241348824914\n",
      "40 [3.04390701] 0.14960664368569\n",
      "41 [3.06244476] 0.14820056164799952\n",
      "42 [3.08431023] 0.14728541230808173\n",
      "43 [3.0500656] 0.14641650557875127\n",
      "44 [3.03288228] 0.14390108329970744\n",
      "45 [2.98903405] 0.14284958346533644\n",
      "46 [3.02074064] 0.14283953384380163\n",
      "47 [3.01590849] 0.14279319527752363\n",
      "48 [2.89219519] 0.14256942864103045\n",
      "49 [2.65112901] 0.14147121081081804\n",
      "50 [2.29049273] 0.13993081673224791\n",
      "51 [1.97373729] 0.1389713205603112\n",
      "52 [1.96410561] 0.1356887516426136\n",
      "53 [1.72113664] 0.13594218178246828\n",
      "54 [1.13638357] 0.13629574401070654\n",
      "55 [1.71019441] 0.13630871970988634\n",
      "56 [1.57774455] 0.13621321945895284\n",
      "57 [3.00888628] 0.14100799967853145\n",
      "58 [2.56825907] 0.1411563891381425\n",
      "59 [2.34123946] 0.14085907090263314\n",
      "60 [2.13723653] 0.1397808568551943\n",
      "61 [1.50125132] 0.13829818322263185\n",
      "62 [1.85093852] 0.13856121844040814\n",
      "63 [2.25170158] 0.13857319968262208\n",
      "64 [2.75653855] 0.13960852237635415\n",
      "65 [3.4455397] 0.14038930754289472\n",
      "66 [4.35997435] 0.14162768876807172\n",
      "67 [5.73952826] 0.14207569953066743\n",
      "68 [7.9239538] 0.14453781016831113\n",
      "69 [10.04894152] 0.1478161620847761\n",
      "70 [13.46256953] 0.14906646043808391\n",
      "71 [19.91453773] 0.1499767119333053\n",
      "72 [21.67193892] 0.1439324803312657\n",
      "73 [21.33342961] 0.13974596169616052\n",
      "74 [20.85453654] 0.13821197915688588\n",
      "75 [21.62042114] 0.13847581676832715\n",
      "76 [19.86189161] 0.1359231066848739\n",
      "77 [17.57485042] 0.1327908211244076\n",
      "78 [8.56373056] 0.12572848831133743\n",
      "79 [2.79757197] 0.12403754255090899\n",
      "80 [2.9456385] 0.12349518370969513\n",
      "81 [1.69682299] 0.12195647913996843\n",
      "82 [1.96446147] 0.12146037469249098\n",
      "83 [2.37182679] 0.12110505733782032\n",
      "84 [2.82369783] 0.12093534033804922\n",
      "85 [3.52899163] 0.12092516861931485\n",
      "86 [5.33825691] 0.12116813792964551\n",
      "87 [6.64721783] 0.12124608453408811\n",
      "88 [9.20630115] 0.12033712922283549\n",
      "89 [13.92899731] 0.11897625769632529\n",
      "90 [16.36902052] 0.12189628852982289\n",
      "91 [18.07867798] 0.119106260118402\n",
      "92 [13.09127651] 0.11396089681888324\n",
      "93 [2.85745219] 0.10847039167501443\n",
      "94 [2.61850493] 0.10773580432971441\n",
      "95 [2.70554884] 0.10736838259248853\n",
      "96 [2.84391437] 0.10649681692364149\n",
      "97 [3.17176505] 0.10597265543723973\n",
      "98 [2.61125184] 0.10539980862327554\n",
      "99 [2.85516164] 0.10507075530854791\n",
      "100 [3.77671965] 0.104115603500509\n",
      "101 [4.70551324] 0.10059986435132837\n",
      "102 [5.70632918] 0.09865754612173883\n",
      "103 [5.67204756] 0.09682434439455179\n",
      "104 [3.69501253] 0.10011899210601251\n",
      "105 [2.05151513] 0.09863886762398062\n",
      "106 [1.51209477] 0.09576006874010486\n",
      "107 [1.28290448] 0.09442999827252442\n",
      "108 [1.24593025] 0.09368414417609487\n",
      "109 [1.99522951] 0.0937209051508732\n",
      "110 [2.04833931] 0.09251996240186026\n",
      "111 [1.89935473] 0.09196811393925051\n",
      "112 [1.01534288] 0.08528642263193058\n",
      "113 [1.04995407] 0.0843831400392817\n",
      "114 [1.13207878] 0.08282713206015535\n",
      "115 [1.00712123] 0.08192069392901524\n",
      "116 [0.73228425] 0.08075776228931585\n",
      "117 [1.24358182] 0.08185292994555639\n",
      "118 [1.13290444] 0.08022564886877893\n",
      "119 [0.63244941] 0.07932364357325128\n",
      "120 [0.62139454] 0.07976883628602323\n",
      "121 [0.60323177] 0.08115700190645493\n",
      "122 [0.83647175] 0.0814446499098886\n",
      "123 [0.71116311] 0.08058559153544329\n",
      "124 [0.76855932] 0.08160401600002151\n",
      "125 [0.7998248] 0.08146127483881982\n",
      "126 [1.85942808] 0.08123116915732578\n",
      "127 [2.16969488] 0.083102002493699\n",
      "128 [2.08309083] 0.08247187097278175\n",
      "129 [1.95253789] 0.08179268079079388\n",
      "130 [1.45094569] 0.08178101225781653\n",
      "131 [1.60681749] 0.08208921914243111\n",
      "132 [1.88591776] 0.08274311426861965\n",
      "133 [1.91233942] 0.08237061485395877\n",
      "134 [2.00559139] 0.08165003966159777\n",
      "135 [1.95230723] 0.08099574496710413\n",
      "136 [2.1553856] 0.08214971467768482\n",
      "137 [2.29827052] 0.07943878061956663\n",
      "138 [2.27117656] 0.07940821994859043\n",
      "139 [2.19321334] 0.07888916958641022\n",
      "140 [3.23810398] 0.07876265298665748\n",
      "141 [3.26982333] 0.07914291573039513\n",
      "142 [3.33134718] 0.07617092348868261\n",
      "143 [2.00376439] 0.07464881707719995\n",
      "144 [1.27750153] 0.07457012279642203\n",
      "145 [1.57045332] 0.07500856028707471\n",
      "146 [1.6475701] 0.0735851279246512\n",
      "147 [1.86743831] 0.07259065536607552\n",
      "148 [1.98854285] 0.07166489900700858\n",
      "149 [1.82332006] 0.07014840471588382\n",
      "150 [1.918597] 0.06927138991416502\n",
      "151 [1.79688767] 0.06808197599143695\n",
      "152 [1.7421742] 0.06679473134923625\n",
      "153 [1.40933215] 0.06537547615683921\n",
      "154 [1.15054029] 0.06515875053209096\n",
      "155 [1.12098121] 0.06460976065376124\n",
      "156 [0.94708095] 0.06473565981930937\n",
      "157 [0.63124669] 0.06388483717838768\n",
      "158 [0.65075504] 0.0633813207144992\n",
      "159 [0.81806024] 0.06368070266251086\n",
      "160 [0.82164052] 0.06327594020989583\n",
      "161 [0.4488272] 0.06193947510947728\n",
      "162 [0.55627724] 0.06141340524018246\n",
      "163 [0.30562299] 0.06067375283980025\n",
      "164 [0.3329944] 0.06033972937696809\n",
      "165 [0.44020302] 0.05935518545242453\n",
      "166 [0.34429909] 0.05893947803546149\n",
      "167 [0.54577283] 0.05872069721191847\n",
      "168 [0.81823106] 0.058801101604860184\n",
      "169 [0.93980137] 0.05831545469521938\n",
      "170 [0.48809872] 0.057613223552562806\n",
      "171 [0.3122314] 0.05680273216321147\n",
      "172 [0.32184093] 0.05690201074880621\n",
      "173 [0.56569404] 0.05530109952493962\n",
      "174 [0.32181296] 0.05446188043725097\n",
      "175 [0.98625615] 0.06043969288987927\n",
      "176 [1.08772787] 0.059937877875704794\n",
      "177 [2.89644216] 0.07259607572103287\n",
      "178 [3.09265938] 0.07105541384068252\n",
      "179 [4.49047987] 0.06494930821420357\n",
      "180 [1.48577014] 0.061659842342237585\n",
      "181 [0.86138457] 0.06077558741740795\n",
      "182 [0.86672589] 0.0599405227355037\n",
      "183 [0.93817708] 0.06043060707046379\n",
      "184 [1.7960469] 0.061101774730749625\n",
      "185 [1.88872972] 0.060185244934450585\n",
      "186 [1.26906421] 0.05840689376885536\n",
      "187 [0.78947236] 0.05847834072431794\n",
      "188 [0.82669588] 0.058010103513389526\n",
      "189 [0.96439007] 0.05877011567141817\n",
      "190 [1.01030954] 0.059165062547431875\n",
      "191 [2.1195088] 0.060473223786247005\n",
      "192 [1.6436942] 0.058542189946133874\n",
      "193 [1.45747486] 0.05730403253981406\n",
      "194 [1.633485] 0.056887440630660764\n",
      "195 [1.73415414] 0.05551036391792497\n",
      "196 [3.26463967] 0.05654333622466371\n",
      "197 [1.10807505] 0.054783989367943355\n",
      "198 [2.33046103] 0.054481457425977486\n",
      "199 [2.91248868] 0.05476518725983867\n",
      "200 [1.82337474] 0.05395512039622724\n"
     ]
    }
   ],
   "source": [
    "# for update in range(update):\n",
    "while converge_error > criteria and update<200:\n",
    "        value = model.predict([x_train])\n",
    "#         print(type(value))\n",
    "\n",
    "        with tf.GradientTape() as t: #(persistent=True)\n",
    "            t.watch(inputs)\n",
    "            output = model(inputs)\n",
    "            \n",
    "        derivative = t.gradient(output, inputs).numpy()\n",
    "#         print(derivative)\n",
    "\n",
    "        for i in range(train_num):\n",
    "            derivative[i] = np.maximum(derivative[i], 1e-4)\n",
    "            \n",
    "        # with log utility function\n",
    "#         HJB = np.log(1/derivative)+derivative*((train)**alpha-delta*train-1/derivative)-rho*value\n",
    "\n",
    "        # with sigma=2 CRRA utility function\n",
    "        HJB = (1/np.sqrt(derivative))**(1-sigma)/(1-sigma)+derivative*((x_train)**alpha-delta*x_train-1/np.sqrt(derivative))-rho*value\n",
    "#         print(HJB)\n",
    "        value += dt*HJB\n",
    "        model.fit( x_train, value,  epochs=10, validation_split = 0.2, verbose=0 )\n",
    "        \n",
    "        update += 1\n",
    "        converge_error = np.mean(abs(HJB))\n",
    "        print(update,  max(abs(HJB)), np.mean(abs(HJB)))"
   ]
  },
  {
   "cell_type": "code",
   "execution_count": 17,
   "metadata": {},
   "outputs": [
    {
     "data": {
      "image/png": "[encoded data removed]",
      "text/plain": [
       "<Figure size 432x288 with 1 Axes>"
      ]
     },
     "metadata": {},
     "output_type": "display_data"
    }
   ],
   "source": [
    "x = np.linspace(kmin, kmax, num=100)\n",
    "y = model.predict([x])\n",
    "\n",
    "\n",
    "plt.plot(x,y)\n",
    "\n",
    "plt.xlabel('k')\n",
    "plt.ylabel('V(k)')\n",
    "plt.title('Value function')\n",
    "plt.show()"
   ]
  },
  {
   "cell_type": "code",
   "execution_count": 19,
   "metadata": {},
   "outputs": [],
   "source": [
    "from tensorflow.keras.models import load_model\n",
    "\n",
    "model.save('NCG_TD.h5')  # creates a HDF5 file 'my_model.h5'\n",
    "# del model  # deletes the existing model\n",
    "\n",
    "# returns a compiled model\n",
    "# identical to the previous one\n",
    "# model = load_model('my_model.h5')"
   ]
  },
  {
   "cell_type": "code",
   "execution_count": null,
   "metadata": {},
   "outputs": [],
   "source": []
  }
 ],
 "metadata": {
  "kernelspec": {
   "display_name": "Python 3",
   "language": "python",
   "name": "python3"
  },
  "language_info": {
   "codemirror_mode": {
    "name": "ipython",
    "version": 3
   },
   "file_extension": ".py",
   "mimetype": "text/x-python",
   "name": "python",
   "nbconvert_exporter": "python",
   "pygments_lexer": "ipython3",
   "version": "3.6.5"
  }
 },
 "nbformat": 4,
 "nbformat_minor": 2
}
