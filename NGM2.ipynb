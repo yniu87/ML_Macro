{
 "cells": [
  {
   "cell_type": "markdown",
   "metadata": {},
   "source": [
    "We solve the Neoclassical Growth Model with Capital(k) and Productivity (y):\n",
    "\\begin{align}\n",
    "  \\rho V(k,y) &= \\max_{c} [ u(c) +  \\partial_k V (F(k,y)-\\delta k - c) + \\mu(y)\\partial_y V(k,y) + \\frac{\\sigma^2(y)}{2} \\partial_{yy}  V(k,y) ] \\\\\n",
    "  &u(c) = \\frac{c^{1-\\sigma}}{1-\\sigma}, ~~~\n",
    "  F(k)=y k^\\alpha, ~~~\n",
    "  dy_t=\\mu d_t+\\sigma dz_t\n",
    "\\end{align}\n"
   ]
  },
  {
   "cell_type": "code",
   "execution_count": 1,
   "metadata": {
    "scrolled": true
   },
   "outputs": [
    {
     "name": "stderr",
     "output_type": "stream",
     "text": [
      "/anaconda3/lib/python3.6/site-packages/h5py/__init__.py:36: FutureWarning: Conversion of the second argument of issubdtype from `float` to `np.floating` is deprecated. In future, it will be treated as `np.float64 == np.dtype(float).type`.\n",
      "  from ._conv import register_converters as _register_converters\n"
     ]
    }
   ],
   "source": [
    "import numpy as np\n",
    "\n",
    "import matplotlib.pyplot as plt\n",
    "\n",
    "import tensorflow as tf\n",
    "from tensorflow import keras\n",
    "from tensorflow.keras import layers"
   ]
  },
  {
   "cell_type": "code",
   "execution_count": 2,
   "metadata": {},
   "outputs": [],
   "source": [
    "# x = np.linspace(1, 10, num=10)\n",
    "# inputs = tf.constant(x)\n",
    "# def function(x):\n",
    "#   return x**2\n",
    "\n",
    "# with tf.GradientTape() as t: #(persistent=True)\n",
    "#     t.watch(inputs)\n",
    "#     y = function(inputs)\n",
    "\n",
    "# dy_dx = t.gradient(y, inputs).numpy()\n",
    "# print(dy_dx)"
   ]
  },
  {
   "cell_type": "code",
   "execution_count": 3,
   "metadata": {},
   "outputs": [],
   "source": [
    "# x = np.linspace(1, 10, num=10)\n",
    "# inputs = tf.Variable(x) \n",
    "# with tf.GradientTape() as t1:\n",
    "#     with tf.GradientTape() as t2:\n",
    "#         y = function(inputs)\n",
    "# #      y = inputs * inputs * inputs\n",
    "#     dy_dx = t2.gradient(y, inputs)\n",
    "# d2y_dx2 = t1.gradient(dy_dx, inputs).numpy()\n",
    "# print(d2y_dx2)"
   ]
  },
  {
   "cell_type": "code",
   "execution_count": 4,
   "metadata": {},
   "outputs": [],
   "source": [
    "sigma = 2 # 1 changes to log utility\n",
    "alpha = 0.3\n",
    "delta = 0.05\n",
    "rho = 0.05"
   ]
  },
  {
   "cell_type": "code",
   "execution_count": 5,
   "metadata": {},
   "outputs": [
    {
     "name": "stdout",
     "output_type": "stream",
     "text": [
      "ymin: 0.8284957670396986\n",
      "ymax: 1.242743650559548\n"
     ]
    }
   ],
   "source": [
    "# ORNSTEIN-UHLENBECK PROCESS dlog(z) = -theta*log(z)dt + sig2*dW\n",
    "# STATIONARY DISTRIBUTION IS log(z) ~ N(0,Var) WHERE Var = sig2/(2*theta)\n",
    "Var = 0.07\n",
    "zmean = np.exp(Var/2) #MEAN OF LOG-NORMAL DISTRIBUTION N(0,Var)\n",
    "Corr = 0.9\n",
    "theta = -np.log(Corr) # this is mu\n",
    "sig2 = 2*theta*Var # this is sigma\n",
    "\n",
    "ymin = zmean*0.8\n",
    "ymax = zmean*1.2\n",
    "\n",
    "print(\"ymin:\",ymin)\n",
    "print(\"ymax:\",ymax)\n",
    "\n",
    "#DRIFT (FROM ITO'S LEMMA)\n",
    "def mu(y):\n",
    "    return (-theta*np.log(y) + sig2/2)*y \n",
    "\n",
    "# VARIANCE (FROM ITO'S LEMMA)\n",
    "def sigma2(y):\n",
    "    return sig2*y**2"
   ]
  },
  {
   "cell_type": "code",
   "execution_count": 6,
   "metadata": {},
   "outputs": [
    {
     "name": "stdout",
     "output_type": "stream",
     "text": [
      "kmin: 0.0048039866566730914\n",
      "kmax: 9.607973313346182\n"
     ]
    }
   ],
   "source": [
    "kss = (alpha/(rho+delta))**(1/(1-alpha))\n",
    "kmin = 0.001*kss\n",
    "kmax = 2*kss\n",
    "print(\"kmin:\",kmin)\n",
    "print(\"kmax:\",kmax)"
   ]
  },
  {
   "cell_type": "code",
   "execution_count": 7,
   "metadata": {},
   "outputs": [
    {
     "data": {
      "text/plain": [
       "(10000, 1)"
      ]
     },
     "execution_count": 7,
     "metadata": {},
     "output_type": "execute_result"
    }
   ],
   "source": [
    "train_num = 10000\n",
    "# x_train = np.random.uniform(kmin,kmax,(train_num,1))\n",
    "k_train = np.linspace(kmin, kmax, num=train_num).reshape(train_num,1)\n",
    "k_train.shape\n",
    "\n",
    "y_train = np.linspace(ymin, ymax, num=train_num).reshape(train_num,1)\n",
    "y_train.shape"
   ]
  },
  {
   "cell_type": "code",
   "execution_count": 8,
   "metadata": {},
   "outputs": [],
   "source": [
    "def build_model():\n",
    "  model = keras.Sequential([\n",
    "    layers.Dense(36, activation='tanh', input_shape=[2]), #use_bias=True\n",
    "    layers.Dense(36, activation='tanh'), #use_bias=False     \n",
    "    layers.Dense(36, activation='tanh'), #use_bias=False\n",
    "#     layers.Dense(16, activation='relu'), #use_bias=False     \n",
    "    layers.Dense(1) #,kernel_constraint=keras.constraints.NonNeg()\n",
    "  ])\n",
    "\n",
    "  optimizer = keras.optimizers.Adam(lr=0.001, beta_1=0.9, beta_2=0.999, epsilon=None, decay=0.0, amsgrad=False)\n",
    "#   optimizer = tf.keras.optimizers.RMSprop(0.001)\n",
    "\n",
    "  model.compile(loss='mse',\n",
    "                optimizer=optimizer,\n",
    "                )\n",
    "  return model"
   ]
  },
  {
   "cell_type": "code",
   "execution_count": 9,
   "metadata": {},
   "outputs": [],
   "source": [
    "model = build_model()"
   ]
  },
  {
   "cell_type": "code",
   "execution_count": 10,
   "metadata": {
    "scrolled": true
   },
   "outputs": [
    {
     "name": "stdout",
     "output_type": "stream",
     "text": [
      "Model: \"sequential\"\n",
      "_________________________________________________________________\n",
      "Layer (type)                 Output Shape              Param #   \n",
      "=================================================================\n",
      "dense (Dense)                (None, 36)                108       \n",
      "_________________________________________________________________\n",
      "dense_1 (Dense)              (None, 36)                1332      \n",
      "_________________________________________________________________\n",
      "dense_2 (Dense)              (None, 36)                1332      \n",
      "_________________________________________________________________\n",
      "dense_3 (Dense)              (None, 1)                 37        \n",
      "=================================================================\n",
      "Total params: 2,809\n",
      "Trainable params: 2,809\n",
      "Non-trainable params: 0\n",
      "_________________________________________________________________\n"
     ]
    }
   ],
   "source": [
    "model.summary()\n",
    "# model.get_weights() "
   ]
  },
  {
   "cell_type": "code",
   "execution_count": 11,
   "metadata": {
    "scrolled": true
   },
   "outputs": [
    {
     "name": "stdout",
     "output_type": "stream",
     "text": [
      "Train on 8000 samples, validate on 2000 samples\n",
      "Epoch 1/50\n",
      "8000/8000 [==============================] - 1s 76us/sample - loss: 85.0090 - val_loss: 15.2113\n",
      "Epoch 2/50\n",
      "8000/8000 [==============================] - 0s 49us/sample - loss: 18.3723 - val_loss: 36.7833\n",
      "Epoch 3/50\n",
      "8000/8000 [==============================] - 1s 100us/sample - loss: 16.9328 - val_loss: 39.4399\n",
      "Epoch 4/50\n",
      "8000/8000 [==============================] - 1s 63us/sample - loss: 16.9001 - val_loss: 38.7566\n",
      "Epoch 5/50\n",
      "8000/8000 [==============================] - 0s 49us/sample - loss: 16.8984 - val_loss: 38.8340\n",
      "Epoch 6/50\n",
      "8000/8000 [==============================] - 0s 55us/sample - loss: 16.8890 - val_loss: 40.1153\n",
      "Epoch 7/50\n",
      "8000/8000 [==============================] - 0s 56us/sample - loss: 16.8794 - val_loss: 39.7559\n",
      "Epoch 8/50\n",
      "8000/8000 [==============================] - 0s 53us/sample - loss: 16.8788 - val_loss: 39.9349\n",
      "Epoch 9/50\n",
      "8000/8000 [==============================] - 0s 49us/sample - loss: 16.8662 - val_loss: 37.3893\n",
      "Epoch 10/50\n",
      "8000/8000 [==============================] - 0s 53us/sample - loss: 16.8761 - val_loss: 38.7826\n",
      "Epoch 11/50\n",
      "8000/8000 [==============================] - 1s 64us/sample - loss: 16.8712 - val_loss: 39.7246\n",
      "Epoch 12/50\n",
      "8000/8000 [==============================] - 1s 106us/sample - loss: 16.8626 - val_loss: 41.2628\n",
      "Epoch 13/50\n",
      "8000/8000 [==============================] - 1s 68us/sample - loss: 16.8673 - val_loss: 41.9617\n",
      "Epoch 14/50\n",
      "8000/8000 [==============================] - 0s 56us/sample - loss: 16.8714 - val_loss: 38.8112\n",
      "Epoch 15/50\n",
      "8000/8000 [==============================] - 0s 56us/sample - loss: 16.8587 - val_loss: 40.5434\n",
      "Epoch 16/50\n",
      "8000/8000 [==============================] - 0s 50us/sample - loss: 7.1507 - val_loss: 0.7690\n",
      "Epoch 17/50\n",
      "8000/8000 [==============================] - 0s 46us/sample - loss: 0.2484 - val_loss: 0.2931\n",
      "Epoch 18/50\n",
      "8000/8000 [==============================] - 0s 44us/sample - loss: 0.0543 - val_loss: 0.2099\n",
      "Epoch 19/50\n",
      "8000/8000 [==============================] - 1s 67us/sample - loss: 0.0206 - val_loss: 0.1673\n",
      "Epoch 20/50\n",
      "8000/8000 [==============================] - 1s 76us/sample - loss: 0.0100 - val_loss: 0.1175\n",
      "Epoch 21/50\n",
      "8000/8000 [==============================] - 0s 57us/sample - loss: 0.0056 - val_loss: 0.1114\n",
      "Epoch 22/50\n",
      "8000/8000 [==============================] - 1s 63us/sample - loss: 0.0034 - val_loss: 0.0933\n",
      "Epoch 23/50\n",
      "8000/8000 [==============================] - 1s 67us/sample - loss: 0.0022 - val_loss: 0.0910\n",
      "Epoch 24/50\n",
      "8000/8000 [==============================] - 0s 61us/sample - loss: 0.0016 - val_loss: 0.0904\n",
      "Epoch 25/50\n",
      "8000/8000 [==============================] - 0s 60us/sample - loss: 0.0011 - val_loss: 0.0674\n",
      "Epoch 26/50\n",
      "8000/8000 [==============================] - 0s 52us/sample - loss: 8.8092e-04 - val_loss: 0.0554\n",
      "Epoch 27/50\n",
      "8000/8000 [==============================] - 0s 61us/sample - loss: 6.9688e-04 - val_loss: 0.0521\n",
      "Epoch 28/50\n",
      "8000/8000 [==============================] - 0s 48us/sample - loss: 5.5068e-04 - val_loss: 0.0490\n",
      "Epoch 29/50\n",
      "8000/8000 [==============================] - 0s 52us/sample - loss: 4.3747e-04 - val_loss: 0.0405\n",
      "Epoch 30/50\n",
      "8000/8000 [==============================] - 0s 50us/sample - loss: 3.7552e-04 - val_loss: 0.0374\n",
      "Epoch 31/50\n",
      "8000/8000 [==============================] - 0s 45us/sample - loss: 3.0703e-04 - val_loss: 0.0396\n",
      "Epoch 32/50\n",
      "8000/8000 [==============================] - 0s 48us/sample - loss: 2.8739e-04 - val_loss: 0.0218\n",
      "Epoch 33/50\n",
      "8000/8000 [==============================] - 1s 102us/sample - loss: 2.1581e-04 - val_loss: 0.0313\n",
      "Epoch 34/50\n",
      "8000/8000 [==============================] - 1s 73us/sample - loss: 2.0255e-04 - val_loss: 0.0224\n",
      "Epoch 35/50\n",
      "8000/8000 [==============================] - 1s 70us/sample - loss: 1.8970e-04 - val_loss: 0.0280\n",
      "Epoch 36/50\n",
      "8000/8000 [==============================] - 1s 69us/sample - loss: 1.1233e-04 - val_loss: 0.0264\n",
      "Epoch 37/50\n",
      "8000/8000 [==============================] - 0s 59us/sample - loss: 1.1262e-04 - val_loss: 0.0196\n",
      "Epoch 38/50\n",
      "8000/8000 [==============================] - 1s 70us/sample - loss: 2.0431e-04 - val_loss: 0.0109\n",
      "Epoch 39/50\n",
      "8000/8000 [==============================] - 0s 49us/sample - loss: 2.8140e-04 - val_loss: 0.0171\n",
      "Epoch 40/50\n",
      "8000/8000 [==============================] - 0s 53us/sample - loss: 7.8133e-05 - val_loss: 0.0162\n",
      "Epoch 41/50\n",
      "8000/8000 [==============================] - 0s 59us/sample - loss: 2.6541e-04 - val_loss: 0.0162\n",
      "Epoch 42/50\n",
      "8000/8000 [==============================] - 0s 56us/sample - loss: 1.1762e-04 - val_loss: 0.0196\n",
      "Epoch 43/50\n",
      "8000/8000 [==============================] - 0s 52us/sample - loss: 7.3431e-05 - val_loss: 0.0156\n",
      "Epoch 44/50\n",
      "8000/8000 [==============================] - 0s 50us/sample - loss: 3.6499e-04 - val_loss: 0.0212\n",
      "Epoch 45/50\n",
      "8000/8000 [==============================] - 0s 50us/sample - loss: 8.7609e-05 - val_loss: 0.0206\n",
      "Epoch 46/50\n",
      "8000/8000 [==============================] - 0s 54us/sample - loss: 5.2148e-05 - val_loss: 0.0162\n",
      "Epoch 47/50\n",
      "8000/8000 [==============================] - 0s 58us/sample - loss: 2.1155e-04 - val_loss: 0.0129\n",
      "Epoch 48/50\n",
      "8000/8000 [==============================] - 0s 57us/sample - loss: 2.3853e-04 - val_loss: 0.0057\n",
      "Epoch 49/50\n",
      "8000/8000 [==============================] - 0s 53us/sample - loss: 1.7329e-04 - val_loss: 0.0201\n",
      "Epoch 50/50\n",
      "8000/8000 [==============================] - 0s 49us/sample - loss: 5.9729e-04 - val_loss: 0.0128\n"
     ]
    },
    {
     "data": {
      "text/plain": [
       "<tensorflow.python.keras.callbacks.History at 0x10d269240>"
      ]
     },
     "execution_count": 11,
     "metadata": {},
     "output_type": "execute_result"
    }
   ],
   "source": [
    "z_train = - 11/81*(k_train-9)**2 - 13 + 10*(y_train-1)\n",
    "\n",
    "k_norm = (k_train-kmin)/(kmax-kmin)\n",
    "y_norm = (y_train-ymin)/(ymax-ymin)\n",
    "\n",
    "x_train = np.concatenate((k_norm, y_train), axis=1)\n",
    "model.fit( x_train, z_train, epochs=50,validation_split = 0.2, verbose=1 ) # ,batch_size=5000"
   ]
  },
  {
   "cell_type": "code",
   "execution_count": 12,
   "metadata": {},
   "outputs": [
    {
     "name": "stdout",
     "output_type": "stream",
     "text": [
      "2.1704572075132136\n"
     ]
    },
    {
     "data": {
      "image/png": "[encoded data removed]",
      "text/plain": [
       "<Figure size 432x288 with 1 Axes>"
      ]
     },
     "metadata": {},
     "output_type": "display_data"
    }
   ],
   "source": [
    "# k_test = np.linspace(kmin,kmax,num=99).reshape(99,1)\n",
    "# y_test = np.linspace(ymin,ymax,num=99).reshape(99,1)\n",
    "\n",
    "k_test = np.random.uniform(kmin,kmax,(99,1))\n",
    "y_test = np.random.uniform(ymin,ymax,(99,1))\n",
    "\n",
    "k_tnorm = (k_test-kmin)/(kmax-kmin)\n",
    "y_tnorm = (y_test-ymin)/(ymax-ymin)\n",
    "\n",
    "\n",
    "x_test = np.concatenate((k_tnorm, y_test), axis=1)\n",
    "\n",
    "# z_test = k_test**2 + y_test**2\n",
    "z_test = - 11/81*(k_test-9)**2 - 13 + 10*(y_test-1)\n",
    "\n",
    "\n",
    "error = z_test.reshape(99,1) - model.predict([x_test])\n",
    "\n",
    "print(np.mean(abs(error)))\n",
    "\n",
    "plt.hist(error, bins=10) \n",
    "plt.show()"
   ]
  },
  {
   "cell_type": "code",
   "execution_count": 13,
   "metadata": {},
   "outputs": [
    {
     "data": {
      "text/plain": [
       "Text(0.5,0,'Value')"
      ]
     },
     "execution_count": 13,
     "metadata": {},
     "output_type": "execute_result"
    },
    {
     "data": {
      "image/png": "[encoded data removed]",
      "text/plain": [
       "<Figure size 432x288 with 1 Axes>"
      ]
     },
     "metadata": {},
     "output_type": "display_data"
    }
   ],
   "source": [
    "from mpl_toolkits import mplot3d\n",
    "\n",
    "def f(x, y):\n",
    "#     return np.sin(np.sqrt(x ** 2 + y ** 2))\n",
    "    return - 11/81*(x-9)**2 - 13 + 10*(y-1)\n",
    "\n",
    "X, Y = np.meshgrid(k_test, y_test)\n",
    "Z = f(X, Y)\n",
    "\n",
    "fig = plt.figure()\n",
    "ax = plt.axes(projection='3d')\n",
    "ax.contour3D(X, Y, Z, 50, cmap='binary')\n",
    "ax.set_xlabel('k')\n",
    "ax.set_ylabel('y')\n",
    "ax.set_zlabel('Value')"
   ]
  },
  {
   "cell_type": "code",
   "execution_count": 14,
   "metadata": {},
   "outputs": [],
   "source": [
    "inputs = tf.Variable(x_train) \n",
    "\n",
    "with tf.GradientTape() as t1:\n",
    "    with tf.GradientTape() as t2:\n",
    "        output = inputs*inputs\n",
    "#         output = model(inputs)\n",
    "#      y = inputs * inputs * inputs\n",
    "    dV1 = t2.gradient(output, inputs)\n",
    "dV2 = t1.gradient(dV1, inputs).numpy()\n",
    "\n",
    "[dV_dk,dV_dy] = np.hsplit(dV1, 2)\n",
    "[d2V_dk2,d2V_dy2] = np.hsplit(dV2, 2)"
   ]
  },
  {
   "cell_type": "code",
   "execution_count": 15,
   "metadata": {},
   "outputs": [],
   "source": [
    "counter = 1\n",
    "dt = 1*1e-2       # this is the learning rate for TD Reinforcement Learning\n",
    "criteria = 1e-2\n",
    "converge_error = 10\n",
    "error_history = []"
   ]
  },
  {
   "cell_type": "code",
   "execution_count": 16,
   "metadata": {},
   "outputs": [
    {
     "name": "stdout",
     "output_type": "stream",
     "text": [
      "2 [17.78938406] 14.388719745906986\n",
      "3 [17.71093905] 14.2678878367832\n",
      "4 [17.67199207] 14.286333818247556\n",
      "5 [17.60731153] 14.199453658733546\n",
      "6 [17.62216229] 14.156833868561144\n",
      "7 [17.57433168] 14.108065584207178\n",
      "8 [17.54359905] 14.048803574075654\n",
      "9 [17.49288864] 13.995536286904375\n",
      "10 [17.4443342] 13.937739404474536\n",
      "11 [17.40847485] 13.845912592141197\n",
      "12 [17.42704978] 13.791199405254392\n",
      "13 [17.37822729] 13.742229021696584\n",
      "14 [17.5338838] 13.83536847766264\n",
      "15 [17.7164337] 13.969773168270077\n",
      "16 [17.80389665] 14.103932508423826\n",
      "17 [20.2135888] 14.283023573096548\n",
      "18 [22.58474312] 14.47028242983986\n",
      "19 [26.11511659] 14.86362136327828\n",
      "20 [29.07529124] 15.21572898828435\n",
      "21 [31.82724883] 15.60749483243361\n",
      "22 [33.35887565] 15.883468589937145\n",
      "23 [34.33741228] 16.179166994507803\n",
      "24 [34.62298769] 16.36516801184666\n",
      "25 [34.58956401] 16.589564618356384\n",
      "26 [34.17386492] 16.692212012105124\n",
      "27 [34.51302782] 16.927049958861595\n",
      "28 [34.04141296] 17.135754970164378\n",
      "29 [34.00421114] 17.3823128040192\n",
      "30 [33.72943401] 17.40844319156247\n",
      "31 [33.02354687] 17.409478689841766\n",
      "32 [31.42484787] 17.41792001950073\n",
      "33 [31.28383543] 17.760489640244376\n",
      "34 [30.51273989] 17.987813900145838\n",
      "35 [29.75835866] 18.12282042317167\n",
      "36 [28.08223812] 17.969532843865426\n",
      "37 [27.55509534] 17.95332038559623\n",
      "38 [27.4932896] 17.96162120250107\n",
      "39 [26.82892309] 17.562735903320885\n",
      "40 [27.08178838] 17.41281208171675\n",
      "41 [27.3907499] 17.381258905450284\n",
      "42 [27.71087123] 17.238021020626206\n",
      "43 [28.30760137] 16.924453607807944\n",
      "44 [28.65277286] 16.832838948553412\n",
      "45 [29.07562712] 16.78041608230442\n",
      "46 [29.54650304] 16.692401019871095\n",
      "47 [29.95950825] 16.553871039580482\n",
      "48 [30.549461] 16.379407734970886\n",
      "49 [30.99681595] 16.14694988017072\n",
      "50 [31.77805171] 15.914701474204502\n"
     ]
    }
   ],
   "source": [
    "# for counter in range(counter):\n",
    "while converge_error > criteria and counter<50:\n",
    "        value = model.predict([x_train])\n",
    "#         print(type(value))\n",
    "          \n",
    "        with tf.GradientTape() as t1:\n",
    "            with tf.GradientTape() as t2:\n",
    "                 # output = inputs*inputs\n",
    "                output = model(inputs)\n",
    "            dV1 = t2.gradient(output, inputs)\n",
    "        dV2 = t1.gradient(dV1, inputs).numpy()\n",
    "\n",
    "        [dV_dk,dV_dy] = np.hsplit(dV1, 2)\n",
    "        [d2V_dk2,d2V_dy2] = np.hsplit(dV2, 2)\n",
    "        \n",
    "#         print(dV1)\n",
    "\n",
    "        for i in range(train_num):\n",
    "            dV_dk[i] = np.maximum(dV_dk[i], 1e-4)\n",
    "            \n",
    "        # with sigma=2 CRRA utility function\n",
    "        HJB = (1/np.sqrt(dV_dk))**(1-sigma)/(1-sigma)\\\n",
    "                +dV_dk*(y_train*(k_train)**alpha-delta*k_train-1/np.sqrt(dV_dk))\\\n",
    "                +mu(y_train)*dV_dy +1/2*sigma2(y_train)*d2V_dy2 -rho*value\n",
    "#         print(HJB)\n",
    "        value += dt*HJB\n",
    "        model.fit( x_train, value,  epochs=10, validation_split = 0.2, verbose=0 )\n",
    "        \n",
    "        counter += 1\n",
    "        converge_error = np.mean(abs(HJB))\n",
    "        error_history.append(np.mean(abs(HJB)))\n",
    "        print(counter,  max(abs(HJB)), np.mean(abs(HJB)))"
   ]
  },
  {
   "cell_type": "code",
   "execution_count": 17,
   "metadata": {},
   "outputs": [
    {
     "data": {
      "image/png": "[encoded data removed]",
      "text/plain": [
       "<Figure size 432x288 with 1 Axes>"
      ]
     },
     "metadata": {},
     "output_type": "display_data"
    }
   ],
   "source": [
    "x = np.linspace(1, len(error_history), num=len(error_history))\n",
    "y = np.array(error_history)\n",
    "\n",
    "plt.plot(x,y)\n",
    "\n",
    "plt.xlabel('time')\n",
    "plt.ylabel('error')\n",
    "plt.title('training error')\n",
    "plt.show()"
   ]
  },
  {
   "cell_type": "code",
   "execution_count": 18,
   "metadata": {},
   "outputs": [
    {
     "data": {
      "image/png": "[encoded data removed]",
      "text/plain": [
       "<Figure size 432x288 with 1 Axes>"
      ]
     },
     "metadata": {},
     "output_type": "display_data"
    }
   ],
   "source": [
    "k_vec  = np.linspace(kmin, kmax, num=100).reshape(100,1)\n",
    "y_mean = np.ones(100).reshape(100,1)\n",
    "y_low  = ymin*np.ones(100).reshape(100,1)\n",
    "y_high = ymax*np.ones(100).reshape(100,1)\n",
    "\n",
    "z_mean = model.predict([np.concatenate((k_vec, y_mean), axis=1)])\n",
    "z_low  = model.predict([np.concatenate((k_vec, y_low ), axis=1)])\n",
    "z_high = model.predict([np.concatenate((k_vec, y_high), axis=1)])\n",
    "\n",
    "\n",
    "# plt.plot(k_vec,z_mean,k_vec,z_low,k_vec,z_high)\n",
    "\n",
    "plt.plot(k_vec,z_mean,label='Mean Productivity')\n",
    "plt.plot(k_vec,z_low, label='Low  Productivity')\n",
    "plt.plot(k_vec,z_high,label='High Productivity')\n",
    "\n",
    "plt.legend()\n",
    "plt.xlabel('k')\n",
    "plt.ylabel('V(k)')\n",
    "plt.title('Value function')\n",
    "plt.show()"
   ]
  },
  {
   "cell_type": "code",
   "execution_count": 19,
   "metadata": {},
   "outputs": [],
   "source": [
    "# from tensorflow.keras.models import load_model\n",
    "\n",
    "# model.save('NCG_TD.h5')  # creates a HDF5 file 'my_model.h5'\n",
    "# # del model  # deletes the existing model\n",
    "\n",
    "# # returns a compiled model\n",
    "# # identical to the previous one\n",
    "# # model = load_model('my_model.h5')"
   ]
  }
 ],
 "metadata": {
  "kernelspec": {
   "display_name": "Python 3",
   "language": "python",
   "name": "python3"
  },
  "language_info": {
   "codemirror_mode": {
    "name": "ipython",
    "version": 3
   },
   "file_extension": ".py",
   "mimetype": "text/x-python",
   "name": "python",
   "nbconvert_exporter": "python",
   "pygments_lexer": "ipython3",
   "version": "3.6.5"
  }
 },
 "nbformat": 4,
 "nbformat_minor": 2
}
